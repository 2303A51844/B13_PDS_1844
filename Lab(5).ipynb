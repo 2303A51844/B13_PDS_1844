{
  "nbformat": 4,
  "nbformat_minor": 0,
  "metadata": {
    "colab": {
      "provenance": [],
      "authorship_tag": "ABX9TyNI6NDDr+S6LRVmBW88t3B6",
      "include_colab_link": true
    },
    "kernelspec": {
      "name": "python3",
      "display_name": "Python 3"
    },
    "language_info": {
      "name": "python"
    }
  },
  "cells": [
    {
      "cell_type": "markdown",
      "metadata": {
        "id": "view-in-github",
        "colab_type": "text"
      },
      "source": [
        "<a href=\"https://colab.research.google.com/github/2303A51844/B13_PDS_1844/blob/main/Lab(5).ipynb\" target=\"_parent\"><img src=\"https://colab.research.google.com/assets/colab-badge.svg\" alt=\"Open In Colab\"/></a>"
      ]
    },
    {
      "cell_type": "code",
      "source": [
        "import pandas as pd\n",
        "df = pd.read_csv('student_scores.csv')\n",
        "overall_stats = df[['Math', 'Science', 'English']].agg(['mean', 'max', 'min', 'count'])\n",
        "if 'class' in df.columns:\n",
        "    grouped_stats = df.groupby('class')[['Math', 'Science', 'English']].agg(['mean', 'max', 'min', 'count'])\n",
        "else:\n",
        "    grouped_stats = None\n",
        "print(\"\\n📊 Overall Aggregate Statistics:\")\n",
        "print(overall_stats)\n",
        "\n",
        "if grouped_stats is not None:\n",
        "    print(\"\\n📚 Grouped Statistics by Class:\")\n",
        "    print(grouped_stats)\n",
        "overall_stats.to_csv('overall_stats.csv')\n",
        "if grouped_stats is not None:\n",
        "    grouped_stats.to_csv('grouped_stats.csv')\n"
      ],
      "metadata": {
        "colab": {
          "base_uri": "https://localhost:8080/"
        },
        "id": "oCuoH9RZpQmj",
        "outputId": "f8a88477-749b-43c5-a371-dc2f1e59f6eb"
      },
      "execution_count": 12,
      "outputs": [
        {
          "output_type": "stream",
          "name": "stdout",
          "text": [
            "\n",
            "📊 Overall Aggregate Statistics:\n",
            "        Math  Science  English\n",
            "mean   87.75     85.5     84.0\n",
            "max    95.00     92.0     91.0\n",
            "min    78.00     76.0     77.0\n",
            "count   4.00      4.0      4.0\n"
          ]
        }
      ]
    }
  ]
}