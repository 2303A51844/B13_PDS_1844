{
  "nbformat": 4,
  "nbformat_minor": 0,
  "metadata": {
    "colab": {
      "provenance": [],
      "authorship_tag": "ABX9TyOrKmGQoYODvV9m4vrtCQga",
      "include_colab_link": true
    },
    "kernelspec": {
      "name": "python3",
      "display_name": "Python 3"
    },
    "language_info": {
      "name": "python"
    }
  },
  "cells": [
    {
      "cell_type": "markdown",
      "metadata": {
        "id": "view-in-github",
        "colab_type": "text"
      },
      "source": [
        "<a href=\"https://colab.research.google.com/github/2303A51844/B13_PDS_1844/blob/main/lab(04%2Cdate-25/08/2025).ipynb\" target=\"_parent\"><img src=\"https://colab.research.google.com/assets/colab-badge.svg\" alt=\"Open In Colab\"/></a>"
      ]
    },
    {
      "cell_type": "code",
      "execution_count": 1,
      "metadata": {
        "colab": {
          "base_uri": "https://localhost:8080/"
        },
        "id": "zq7KGhe7wild",
        "outputId": "1db3c36f-4f7a-419a-fe69-059a121278a9"
      },
      "outputs": [
        {
          "output_type": "stream",
          "name": "stdout",
          "text": [
            "Original Data:\n",
            "   Student_ID     Name  Math  Science  English\n",
            "0           1    Alice  90.0     85.0     88.0\n",
            "1           2      Bob  78.0      NaN     80.0\n",
            "2           3  Charlie   NaN     92.0     77.0\n",
            "3           4    David  88.0     76.0      NaN\n",
            "4           5      Eva  95.0     89.0     91.0\n",
            "\n",
            "Data After Filling Missing Values with Column Averages:\n",
            "   Student_ID     Name   Math  Science  English\n",
            "0           1    Alice  90.00     85.0     88.0\n",
            "1           2      Bob  78.00     85.5     80.0\n",
            "2           3  Charlie  87.75     92.0     77.0\n",
            "3           4    David  88.00     76.0     84.0\n",
            "4           5      Eva  95.00     89.0     91.0\n",
            "\n",
            "High Achievers (scored >75 in all subjects):\n",
            "   Student_ID     Name   Math  Science  English\n",
            "0           1    Alice  90.00     85.0     88.0\n",
            "1           2      Bob  78.00     85.5     80.0\n",
            "2           3  Charlie  87.75     92.0     77.0\n",
            "3           4    David  88.00     76.0     84.0\n",
            "4           5      Eva  95.00     89.0     91.0\n"
          ]
        }
      ],
      "source": [
        "import pandas as pd\n",
        "\n",
        "# Step 1: Read the CSV file\n",
        "df = pd.read_csv(\"student_scores.csv\")\n",
        "\n",
        "print(\"Original Data:\")\n",
        "print(df)\n",
        "\n",
        "# Step 2: Fill missing marks with column-wise average\n",
        "df_filled = df.fillna(df.mean(numeric_only=True))\n",
        "\n",
        "print(\"\\nData After Filling Missing Values with Column Averages:\")\n",
        "print(df_filled)\n",
        "\n",
        "# Step 3: Filter students scoring more than 75 in all subjects\n",
        "high_achievers = df_filled[\n",
        "    (df_filled['Math'] > 75) &\n",
        "    (df_filled['Science'] > 75) &\n",
        "    (df_filled['English'] > 75)\n",
        "]\n",
        "\n",
        "print(\"\\nHigh Achievers (scored >75 in all subjects):\")\n",
        "print(high_achievers)\n",
        "\n",
        "# (Optional) Save results to new CSV\n",
        "high_achievers.to_csv(\"high_achievers.csv\", index=False)\n"
      ]
    }
  ]
}