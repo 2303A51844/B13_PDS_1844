{
  "nbformat": 4,
  "nbformat_minor": 0,
  "metadata": {
    "colab": {
      "provenance": [],
      "authorship_tag": "ABX9TyP+TVtVj7vKC7p9iZU7RpfL",
      "include_colab_link": true
    },
    "kernelspec": {
      "name": "python3",
      "display_name": "Python 3"
    },
    "language_info": {
      "name": "python"
    }
  },
  "cells": [
    {
      "cell_type": "markdown",
      "metadata": {
        "id": "view-in-github",
        "colab_type": "text"
      },
      "source": [
        "<a href=\"https://colab.research.google.com/github/2303A51844/B13_PDS_1844/blob/main/lab(06).ipynb\" target=\"_parent\"><img src=\"https://colab.research.google.com/assets/colab-badge.svg\" alt=\"Open In Colab\"/></a>"
      ]
    },
    {
      "cell_type": "code",
      "execution_count": 2,
      "metadata": {
        "colab": {
          "base_uri": "https://localhost:8080/"
        },
        "id": "YkVeiESrq0ix",
        "outputId": "674e0412-4986-43c1-882a-e4f6a585e2fc"
      },
      "outputs": [
        {
          "output_type": "stream",
          "name": "stdout",
          "text": [
            "===== BEFORE CLEANING =====\n",
            "PassengerId      0\n",
            "Survived         0\n",
            "Pclass           0\n",
            "Name             0\n",
            "Sex              0\n",
            "Age            177\n",
            "SibSp            0\n",
            "Parch            0\n",
            "Ticket           0\n",
            "Fare             0\n",
            "Cabin          687\n",
            "Embarked         2\n",
            "dtype: int64\n",
            "\n",
            "===== AFTER CLEANING =====\n",
            "PassengerId    0\n",
            "Survived       0\n",
            "Pclass         0\n",
            "Name           0\n",
            "Sex            0\n",
            "Age            0\n",
            "SibSp          0\n",
            "Parch          0\n",
            "Ticket         0\n",
            "Fare           0\n",
            "Embarked       0\n",
            "dtype: int64\n",
            "\n",
            "Data Cleaning Completed! Cleaned dataset saved as 'titanic_cleaned.csv'\n"
          ]
        },
        {
          "output_type": "stream",
          "name": "stderr",
          "text": [
            "/tmp/ipython-input-1532855272.py:12: FutureWarning: A value is trying to be set on a copy of a DataFrame or Series through chained assignment using an inplace method.\n",
            "The behavior will change in pandas 3.0. This inplace method will never work because the intermediate object on which we are setting values always behaves as a copy.\n",
            "\n",
            "For example, when doing 'df[col].method(value, inplace=True)', try using 'df.method({col: value}, inplace=True)' or df[col] = df[col].method(value) instead, to perform the operation inplace on the original object.\n",
            "\n",
            "\n",
            "  df['Age'].fillna(df['Age'].mean(), inplace=True)\n",
            "/tmp/ipython-input-1532855272.py:16: FutureWarning: A value is trying to be set on a copy of a DataFrame or Series through chained assignment using an inplace method.\n",
            "The behavior will change in pandas 3.0. This inplace method will never work because the intermediate object on which we are setting values always behaves as a copy.\n",
            "\n",
            "For example, when doing 'df[col].method(value, inplace=True)', try using 'df.method({col: value}, inplace=True)' or df[col] = df[col].method(value) instead, to perform the operation inplace on the original object.\n",
            "\n",
            "\n",
            "  df['Embarked'].fillna(df['Embarked'].mode()[0], inplace=True)\n"
          ]
        }
      ],
      "source": [
        "import pandas as pd\n",
        "\n",
        "# Step 1: Load Titanic dataset\n",
        "df = pd.read_csv(\"Titanic-Dataset.csv\")   # Replace with your file path\n",
        "\n",
        "print(\"===== BEFORE CLEANING =====\")\n",
        "print(df.isnull().sum())   # Summary of missing values before cleaning\n",
        "\n",
        "# Step 2: Handle Missing Values\n",
        "# Fill missing Age with mean\n",
        "if 'Age' in df.columns:\n",
        "    df['Age'].fillna(df['Age'].mean(), inplace=True)\n",
        "\n",
        "# Fill missing Embarked with mode\n",
        "if 'Embarked' in df.columns:\n",
        "    df['Embarked'].fillna(df['Embarked'].mode()[0], inplace=True)\n",
        "\n",
        "# Drop irrelevant column 'Cabin'\n",
        "if 'Cabin' in df.columns:\n",
        "    df.drop(columns=['Cabin'], inplace=True)\n",
        "\n",
        "print(\"\\n===== AFTER CLEANING =====\")\n",
        "print(df.isnull().sum())   # Summary of missing values after cleaning\n",
        "\n",
        "# Step 3: Save cleaned dataset (optional)\n",
        "df.to_csv(\"titanic_cleaned.csv\", index=False)\n",
        "\n",
        "print(\"\\nData Cleaning Completed! Cleaned dataset saved as 'titanic_cleaned.csv'\")\n"
      ]
    }
  ]
}